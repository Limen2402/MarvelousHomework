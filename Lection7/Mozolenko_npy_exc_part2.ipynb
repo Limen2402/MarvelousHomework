{
 "cells": [
  {
   "cell_type": "markdown",
   "metadata": {},
   "source": [
    "# `numpy` practice"
   ]
  },
  {
   "cell_type": "code",
   "execution_count": 2,
   "metadata": {
    "collapsed": true
   },
   "outputs": [],
   "source": [
    "import numpy as np"
   ]
  },
  {
   "cell_type": "markdown",
   "metadata": {},
   "source": [
    "1. Do numpy exercises 6, 8, 9 and 19.\n",
    "\n",
    "1. numpy exercise 44.\n",
    "\n",
    "1. A snail curve is defined by the following equation in polar coordinates: $r = a + \\cos\\phi$. Plot the curve on an $x$-$y$ plane for several values of $a$. (Hint: `np.linspace` creates a linearly spaced array of values)\n",
    "\n",
    "2. A *cochleoid* curve is defined by the following equation in polar coordinates: $r = a \\dfrac{\\sin\\phi} {\\phi }$. Plot the curve on an $x$-$y$ plane. (Hint: use `np.where` to work around division by zero).\n",
    "\n",
    "3. Given two arrays, `u` and `v`, construct the Cauchy matrix using broadcasting.\n",
    "\n",
    "4. See \"Monte Carlo Error propagation\" (separate html)"
   ]
  },
  {
   "cell_type": "code",
   "execution_count": 10,
   "metadata": {},
   "outputs": [
    {
     "data": {
      "image/png": "[encoded data removed]",
      "text/plain": [
       "<matplotlib.figure.Figure at 0x8e4eb38>"
      ]
     },
     "metadata": {},
     "output_type": "display_data"
    }
   ],
   "source": [
    "import matplotlib.pyplot as plt\n",
    "N = 100\n",
    "a = 0.5\n",
    "phi = np.linspace(0, 2 * np.pi, N, endpoint=True)\n",
    "r = a + np.cos(phi)\n",
    "x = r * np.cos(phi)\n",
    "y = r * np.sin(phi)\n",
    "plt.plot(x, y, 'o')\n",
    "plt.ylim([-2, 2])\n",
    "plt.show()"
   ]
  },
  {
   "cell_type": "code",
   "execution_count": 79,
   "metadata": {},
   "outputs": [
    {
     "data": {
      "image/png": "[encoded data removed]",
      "text/plain": [
       "<matplotlib.figure.Figure at 0x8f075f8>"
      ]
     },
     "metadata": {},
     "output_type": "display_data"
    }
   ],
   "source": [
    "import matplotlib.pyplot as plt\n",
    "N = 100\n",
    "a = 2.5\n",
    "phi = np.linspace(0, 2 * np.pi, N, endpoint=True)\n",
    "mask = phi > 0\n",
    "# r = np.array([a * np.sin(i) / i if i != 0 else a for i in phi])\n",
    "r = np.zeros(N)\n",
    "r[mask] = a * np.sin(phi[mask]) / phi[mask]\n",
    "r[np.logical_not(mask)] = a\n",
    "# r = np.where(phi > 0, a * np.sin(phi) / phi, a)\n",
    "# print(r)\n",
    "# print(phi)\n",
    "x = r * np.cos(phi)\n",
    "y = r * np.sin(phi)\n",
    "plt.plot(x, y, 'o')\n",
    "plt.ylim([-0.5, a])\n",
    "plt.show()"
   ]
  },
  {
   "cell_type": "code",
   "execution_count": 78,
   "metadata": {},
   "outputs": [
    {
     "name": "stdout",
     "output_type": "stream",
     "text": [
      "[[ -4.04950368   1.80884068   5.61071669   3.33551294]\n",
      " [ -3.79815223   1.86393912   6.17709964   3.52781113]\n",
      " [ -2.70756788   2.32315573  17.90861763   5.63657658]\n",
      " [ -1.97520501   3.40706719 -12.33009608  24.70890175]]\n"
     ]
    }
   ],
   "source": [
    "N = 4\n",
    "u, v = np.random.random_sample((2, N))\n",
    "Cauchy = 1 / (u.reshape(-1, 1) - v)\n",
    "print(Cauchy)"
   ]
  },
  {
   "cell_type": "code",
   "execution_count": 81,
   "metadata": {},
   "outputs": [
    {
     "name": "stdout",
     "output_type": "stream",
     "text": [
      "[ 5.  5.  5.  5.  5.  5.  5.  5.  5.  5.]\n"
     ]
    }
   ],
   "source": [
    "r = np.zeros(10)\n",
    "r[...] = 5\n",
    "print(r)"
   ]
  },
  {
   "cell_type": "code",
   "execution_count": null,
   "metadata": {
    "collapsed": true
   },
   "outputs": [],
   "source": []
  }
 ],
 "metadata": {
  "kernelspec": {
   "display_name": "Python 3",
   "language": "python",
   "name": "python3"
  },
  "language_info": {
   "codemirror_mode": {
    "name": "ipython",
    "version": 3
   },
   "file_extension": ".py",
   "mimetype": "text/x-python",
   "name": "python",
   "nbconvert_exporter": "python",
   "pygments_lexer": "ipython3",
   "version": "3.6.3"
  }
 },
 "nbformat": 4,
 "nbformat_minor": 1
}
